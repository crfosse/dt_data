{
 "cells": [
  {
   "cell_type": "code",
   "execution_count": null,
   "metadata": {},
   "outputs": [],
   "source": [
    "import pandas as pd\n",
    "import numpy as np\n",
    "import scipy as sp\n",
    "import matplotlib.pyplot as plt\n"
   ]
  },
  {
   "cell_type": "code",
   "execution_count": null,
   "metadata": {},
   "outputs": [],
   "source": [
    "V = 3.7\n",
    "\n",
    "f_micro = 1/(1000*1000)\n",
    "h = 3600\n",
    "\n",
    "sample_pagings_act = [2.49, 2.50, 2.48, 2.45,2.50]\n",
    "sample_pagings_con = [2.39, 2.33, 2.83, 2.36, 2.84, 2.42, 2.34, 2.82, 2.38]\n",
    "print(np.mean(sample_pagings_con))\n",
    "\n",
    "sample_con_end = [7.32, 8.25, 7.54, 8.03, 7.61]"
   ]
  },
  {
   "cell_type": "code",
   "execution_count": null,
   "metadata": {},
   "outputs": [],
   "source": [
    "#NB-IoT\n",
    "p_idle = 155*V*f_micro #W\n",
    "p_sleep = 109*V*f_micro #W\n",
    "\n",
    "#Con state variables\n",
    "t_cdrx = 20.48\n",
    "t_con_interval = 2.048\n",
    "e_con_paging = 2.50*f_micro# uWh\n",
    "e_con_end = 1.93 * f_micro #Wh This one is longer when using acive time. \n",
    "\n",
    "#Active state variables\n",
    "t_active = 30 #s\n",
    "t_act_interval = 2.56 #s\n",
    "\n",
    "e_act_paging = 2.50 * f_micro #uWh\n",
    "e_act_end = 0.252 * f_micro\n",
    "e_act_init_paging = 1.52 * f_micro #uWh\n",
    "\n",
    "\n"
   ]
  },
  {
   "cell_type": "code",
   "execution_count": null,
   "metadata": {},
   "outputs": [],
   "source": [
    "E_cdrx = (p_idle*t_con_interval/h + e_con_paging) * t_cdrx/t_con_interval + e_con_end\n",
    "print(E_cdrx)"
   ]
  },
  {
   "cell_type": "code",
   "execution_count": null,
   "metadata": {},
   "outputs": [],
   "source": [
    "#E_active = (p_idle*t_act_interval/h + e_act_paging) * t_active/t_act_interval + e_act_end\n",
    "#print(E_cdrx)"
   ]
  },
  {
   "cell_type": "code",
   "execution_count": null,
   "metadata": {},
   "outputs": [],
   "source": [
    "t_psm = 180\n",
    "\n",
    "E_msg = 28   *f_micro #Wh at 60 bytes - 0 payload\n",
    "E_tau = 6.40 *f_micro\n",
    "E_sleep = p_sleep*t_psm\n",
    "\n",
    "\n"
   ]
  }
 ],
 "metadata": {
  "language_info": {
   "codemirror_mode": {
    "name": "ipython",
    "version": 3
   },
   "file_extension": ".py",
   "mimetype": "text/x-python",
   "name": "python",
   "nbconvert_exporter": "python",
   "pygments_lexer": "ipython3",
   "version": "3.7.6-final"
  },
  "orig_nbformat": 2,
  "kernelspec": {
   "name": "python3",
   "display_name": "Python 3"
  }
 },
 "nbformat": 4,
 "nbformat_minor": 2
}