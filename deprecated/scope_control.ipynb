{
 "cells": [
  {
   "cell_type": "code",
   "execution_count": 3,
   "metadata": {},
   "outputs": [],
   "source": [
    "import visa\n",
    "import numpy as np\n",
    "import matplotlib.pyplot as plt\n",
    "import time\n",
    "import pandas as pd\n",
    "import csv as csv\n",
    "import datetime\n",
    "\n",
    "from datetime import datetime\n",
    "from visa import constants as viCon\n",
    "\n",
    "rm = visa.ResourceManager()\n",
    "\n",
    "scope = rm.open_resource('USB0::0x0957::0x179B::MY51250109::0::INSTR')\n",
    "scope.enable_event(viCon.EventType.service_request,viCon.VI_QUEUE)\n",
    "scope.VI_ATTR_MAX_QUEUE_LENGTH = 1"
   ]
  },
  {
   "cell_type": "code",
   "execution_count": 4,
   "metadata": {},
   "outputs": [],
   "source": [
    "testname = \"scope_readout/nbiot_test0_mqtt_psm5min1.csv\"\n",
    "#testname = \"scope_readout/nb_iot_coap_startup.csv\"\n",
    "TEST_NUMBER = 50\n",
    "df = pd.DataFrame()"
   ]
  },
  {
   "cell_type": "code",
   "execution_count": 5,
   "metadata": {},
   "outputs": [],
   "source": [
    "scope.clear()\n",
    "scope.write(\"*CLS\") #Clearing the trigger register. Important!\n",
    "scope.write(\"*SRE 1\") #Service requests on triggers\n",
    "# The WORD format is the most accurate for Keysight Oscilloscopes. Data is transferred as signed 16bit integers in 2 bytes.\n",
    "scope.write(\":WAV:SOUR MATH\")\n",
    "scope.write(\":WAV:FORMAT WORD\")\n",
    "scope.write(\":WAV:BYTEORDER MSBF\") # Set the byte order to Big-Endian (default for Infinium oscilloscopes)\n",
    "scope.read_termination = None # Since we're transferring binary data we need to remove the newline read termination\n",
    "\n",
    "i = 0"
   ]
  },
  {
   "cell_type": "code",
   "execution_count": 6,
   "metadata": {},
   "outputs": [
    {
     "name": "stdout",
     "output_type": "stream",
     "text": [
      "Test started 2020-05-08 16:41:57.752328\n",
      "Current measurment: 0\n",
      "Current measurment: 1\n",
      "Current measurment: 2\n",
      "Current measurment: 3\n",
      "Current measurment: 4\n",
      "Current measurment: 5\n",
      "Current measurment: 6\n",
      "Current measurment: 7\n",
      "Current measurment: 8\n",
      "Current measurment: 9\n",
      "Current measurment: 10\n",
      "Current measurment: 11\n",
      "Current measurment: 12\n",
      "Current measurment: 13\n",
      "Current measurment: 14\n",
      "Current measurment: 15\n",
      "Current measurment: 16\n",
      "Current measurment: 17\n",
      "Current measurment: 18\n",
      "Current measurment: 19\n",
      "Current measurment: 20\n",
      "Current measurment: 21\n",
      "Current measurment: 22\n",
      "Current measurment: 23\n",
      "Current measurment: 24\n",
      "Current measurment: 25\n",
      "Current measurment: 26\n",
      "Current measurment: 27\n",
      "Current measurment: 28\n",
      "Current measurment: 29\n"
     ]
    },
    {
     "ename": "VisaIOError",
     "evalue": "VI_ERROR_IO (-1073807298): Could not perform operation because of I/O error.",
     "output_type": "error",
     "traceback": [
      "\u001b[1;31m---------------------------------------------------------------------------\u001b[0m",
      "\u001b[1;31mVisaIOError\u001b[0m                               Traceback (most recent call last)",
      "\u001b[1;32m<ipython-input-6-90a359b0b38d>\u001b[0m in \u001b[0;36m<module>\u001b[1;34m\u001b[0m\n\u001b[0;32m      3\u001b[0m \u001b[0mstart\u001b[0m \u001b[1;33m=\u001b[0m \u001b[0mtime\u001b[0m\u001b[1;33m.\u001b[0m\u001b[0mperf_counter\u001b[0m\u001b[1;33m(\u001b[0m\u001b[1;33m)\u001b[0m\u001b[1;33m\u001b[0m\u001b[1;33m\u001b[0m\u001b[0m\n\u001b[0;32m      4\u001b[0m \u001b[1;32mwhile\u001b[0m\u001b[1;33m(\u001b[0m \u001b[0mi\u001b[0m \u001b[1;33m<\u001b[0m \u001b[0mTEST_NUMBER\u001b[0m\u001b[1;33m)\u001b[0m\u001b[1;33m:\u001b[0m\u001b[1;33m\u001b[0m\u001b[1;33m\u001b[0m\u001b[0m\n\u001b[1;32m----> 5\u001b[1;33m     \u001b[0mscope\u001b[0m\u001b[1;33m.\u001b[0m\u001b[0mclear\u001b[0m\u001b[1;33m(\u001b[0m\u001b[1;33m)\u001b[0m\u001b[1;33m\u001b[0m\u001b[1;33m\u001b[0m\u001b[0m\n\u001b[0m\u001b[0;32m      6\u001b[0m     \u001b[0mscope\u001b[0m\u001b[1;33m.\u001b[0m\u001b[0mwrite\u001b[0m\u001b[1;33m(\u001b[0m\u001b[1;34m\"*CLS\"\u001b[0m\u001b[1;33m)\u001b[0m \u001b[1;31m#Clearing the trigger register. Important!\u001b[0m\u001b[1;33m\u001b[0m\u001b[1;33m\u001b[0m\u001b[0m\n\u001b[0;32m      7\u001b[0m     \u001b[0mscope\u001b[0m\u001b[1;33m.\u001b[0m\u001b[0mwrite\u001b[0m\u001b[1;33m(\u001b[0m\u001b[1;34m\"*TRG\"\u001b[0m\u001b[1;33m)\u001b[0m\u001b[1;33m\u001b[0m\u001b[1;33m\u001b[0m\u001b[0m\n",
      "\u001b[1;32mC:\\anaconda\\lib\\site-packages\\pyvisa\\resources\\resource.py\u001b[0m in \u001b[0;36mclear\u001b[1;34m(self)\u001b[0m\n\u001b[0;32m    285\u001b[0m         \"\"\"Clears this resource\n\u001b[0;32m    286\u001b[0m         \"\"\"\n\u001b[1;32m--> 287\u001b[1;33m         \u001b[0mself\u001b[0m\u001b[1;33m.\u001b[0m\u001b[0mvisalib\u001b[0m\u001b[1;33m.\u001b[0m\u001b[0mclear\u001b[0m\u001b[1;33m(\u001b[0m\u001b[0mself\u001b[0m\u001b[1;33m.\u001b[0m\u001b[0msession\u001b[0m\u001b[1;33m)\u001b[0m\u001b[1;33m\u001b[0m\u001b[1;33m\u001b[0m\u001b[0m\n\u001b[0m\u001b[0;32m    288\u001b[0m \u001b[1;33m\u001b[0m\u001b[0m\n\u001b[0;32m    289\u001b[0m     \u001b[1;32mdef\u001b[0m \u001b[0minstall_handler\u001b[0m\u001b[1;33m(\u001b[0m\u001b[0mself\u001b[0m\u001b[1;33m,\u001b[0m \u001b[0mevent_type\u001b[0m\u001b[1;33m,\u001b[0m \u001b[0mhandler\u001b[0m\u001b[1;33m,\u001b[0m \u001b[0muser_handle\u001b[0m\u001b[1;33m=\u001b[0m\u001b[1;32mNone\u001b[0m\u001b[1;33m)\u001b[0m\u001b[1;33m:\u001b[0m\u001b[1;33m\u001b[0m\u001b[1;33m\u001b[0m\u001b[0m\n",
      "\u001b[1;32mC:\\anaconda\\lib\\site-packages\\pyvisa\\ctwrapper\\functions.py\u001b[0m in \u001b[0;36mclear\u001b[1;34m(library, session)\u001b[0m\n\u001b[0;32m    379\u001b[0m     \u001b[1;33m:\u001b[0m\u001b[0mrtype\u001b[0m\u001b[1;33m:\u001b[0m \u001b[1;33m:\u001b[0m\u001b[1;32mclass\u001b[0m\u001b[1;33m:\u001b[0m\u001b[0;31m`\u001b[0m\u001b[0mpyvisa\u001b[0m\u001b[1;33m.\u001b[0m\u001b[0mconstants\u001b[0m\u001b[1;33m.\u001b[0m\u001b[0mStatusCode\u001b[0m\u001b[0;31m`\u001b[0m\u001b[1;33m\u001b[0m\u001b[1;33m\u001b[0m\u001b[0m\n\u001b[0;32m    380\u001b[0m     \"\"\"\n\u001b[1;32m--> 381\u001b[1;33m     \u001b[1;32mreturn\u001b[0m \u001b[0mlibrary\u001b[0m\u001b[1;33m.\u001b[0m\u001b[0mviClear\u001b[0m\u001b[1;33m(\u001b[0m\u001b[0msession\u001b[0m\u001b[1;33m)\u001b[0m\u001b[1;33m\u001b[0m\u001b[1;33m\u001b[0m\u001b[0m\n\u001b[0m\u001b[0;32m    382\u001b[0m \u001b[1;33m\u001b[0m\u001b[0m\n\u001b[0;32m    383\u001b[0m \u001b[1;33m\u001b[0m\u001b[0m\n",
      "\u001b[1;32mC:\\anaconda\\lib\\site-packages\\pyvisa\\ctwrapper\\highlevel.py\u001b[0m in \u001b[0;36m_return_handler\u001b[1;34m(self, ret_value, func, arguments)\u001b[0m\n\u001b[0;32m    191\u001b[0m \u001b[1;33m\u001b[0m\u001b[0m\n\u001b[0;32m    192\u001b[0m         \u001b[1;32mif\u001b[0m \u001b[0mret_value\u001b[0m \u001b[1;33m<\u001b[0m \u001b[1;36m0\u001b[0m\u001b[1;33m:\u001b[0m\u001b[1;33m\u001b[0m\u001b[1;33m\u001b[0m\u001b[0m\n\u001b[1;32m--> 193\u001b[1;33m             \u001b[1;32mraise\u001b[0m \u001b[0merrors\u001b[0m\u001b[1;33m.\u001b[0m\u001b[0mVisaIOError\u001b[0m\u001b[1;33m(\u001b[0m\u001b[0mret_value\u001b[0m\u001b[1;33m)\u001b[0m\u001b[1;33m\u001b[0m\u001b[1;33m\u001b[0m\u001b[0m\n\u001b[0m\u001b[0;32m    194\u001b[0m \u001b[1;33m\u001b[0m\u001b[0m\n\u001b[0;32m    195\u001b[0m         \u001b[1;32mif\u001b[0m \u001b[0mret_value\u001b[0m \u001b[1;32min\u001b[0m \u001b[0mself\u001b[0m\u001b[1;33m.\u001b[0m\u001b[0missue_warning_on\u001b[0m\u001b[1;33m:\u001b[0m\u001b[1;33m\u001b[0m\u001b[1;33m\u001b[0m\u001b[0m\n",
      "\u001b[1;31mVisaIOError\u001b[0m: VI_ERROR_IO (-1073807298): Could not perform operation because of I/O error."
     ]
    }
   ],
   "source": [
    "print(\"Test started \" + str(datetime.now()))\n",
    "\n",
    "start = time.perf_counter()\n",
    "while( i < TEST_NUMBER):\n",
    "    scope.clear()\n",
    "    scope.write(\"*CLS\") #Clearing the trigger register. Important!\n",
    "    scope.write(\"*TRG\")\n",
    "    try:\n",
    "        scope.wait_on_event(viCon.EventType.service_request,1000)\n",
    "\n",
    "        data = [time.perf_counter() - start]\n",
    "        wfm_array = scope.query_binary_values(\":WAV:DATA?\", 'h', is_big_endian = True, container = list)\n",
    "        \n",
    "        data.extend(wfm_array)\n",
    "        df[\"meas\"+str(i)] = data\n",
    "        \n",
    "        \n",
    "        print(\"Current measurment: \" + str(i))               \n",
    "        \n",
    "        i = i + 1\n",
    "        \n",
    "    except visa.VisaIOError: \n",
    "        try:\n",
    "            data = [time.perf_counter() - start]\n",
    "            wfm_array = scope.query_binary_values(\":WAV:DATA?\", 'h', is_big_endian = True, container = list)\n",
    "            data.extend(wfm_array)\n",
    "            df[\"meas\"+str(i)] = data\n",
    "        \n",
    "            print(\"Current measurment: \" + str(i))\n",
    "            \n",
    "            i = i + 1\n",
    "        except visa.VisaIOError:\n",
    "            pass\n",
    "df.to_csv(testname)"
   ]
  },
  {
   "cell_type": "code",
   "execution_count": 7,
   "metadata": {},
   "outputs": [],
   "source": [
    "df.to_csv(testname)"
   ]
  },
  {
   "cell_type": "code",
   "execution_count": null,
   "metadata": {},
   "outputs": [],
   "source": [
    "y_inc = float(scope.query(\":WAV:YINC?\"))\n",
    "y_or = float(scope.query(\":WAV:YOR?\"))\n",
    "y_ref = float(scope.query(\":WAV:YREF?\"))\n",
    "x_inc = float(scope.query(\":WAV:XINC?\"))"
   ]
  }
 ],
 "metadata": {
  "kernelspec": {
   "display_name": "Python 3",
   "language": "python",
   "name": "python3"
  },
  "language_info": {
   "codemirror_mode": {
    "name": "ipython",
    "version": 3
   },
   "file_extension": ".py",
   "mimetype": "text/x-python",
   "name": "python",
   "nbconvert_exporter": "python",
   "pygments_lexer": "ipython3",
   "version": "3.7.6"
  }
 },
 "nbformat": 4,
 "nbformat_minor": 4
}
