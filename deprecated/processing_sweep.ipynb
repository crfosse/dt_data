{
 "cells": [
  {
   "cell_type": "code",
   "execution_count": null,
   "metadata": {},
   "outputs": [],
   "source": [
    "import pandas as pd\n",
    "import numpy as np\n",
    "import scipy as sp\n",
    "import matplotlib.pyplot as plt\n",
    "\n",
    "from scipy import signal as sig\n",
    "from sklearn import preprocessing\n",
    "from numpy import fft"
   ]
  },
  {
   "cell_type": "code",
   "execution_count": null,
   "metadata": {},
   "outputs": [],
   "source": [
    "#initial constants\n",
    "delta_t = 0.00025\n",
    "\n",
    "nb_ptw = 2.048 #seconds\n",
    "\n",
    "#voltage\n",
    "V = 3.7\n",
    "\n",
    "ptw_disc = int(nb_ptw/delta_t) #timesteps\n",
    "msg_interval = 40000 #timesteps\n",
    "\n",
    "to_uWh = (1000*1000*delta_t*V)/3600"
   ]
  },
  {
   "cell_type": "code",
   "execution_count": null,
   "metadata": {},
   "outputs": [],
   "source": [
    "##CoAP\n",
    "sweep_file1 = \"../measurements/otii/sweep_coap_4.csv\" #no psm\n",
    "sweep_file2 = \"../measurements/otii/sweep_coap_5.csv\" #no psm\n",
    "sweep_file3 = \"../measurements/otii/sweep_coap_6.csv\" #no psm\n",
    "\n",
    "coap_data = []\n",
    "coap_data.append(pd.read_csv(sweep_file1))\n",
    "coap_data.append(pd.read_csv(sweep_file2))\n",
    "coap_data.append(pd.read_csv(sweep_file3))"
   ]
  },
  {
   "cell_type": "code",
   "execution_count": null,
   "metadata": {},
   "outputs": [],
   "source": [
    "## MQTT\n",
    "sweep_file1 = \"../measurements/otii/sweep_mqtt_2300_test1.csv\"\n",
    "sweep_file2 = \"../measurements/otii/sweep_mqtt_2300_test2.csv\"\n",
    "sweep_file3 = \"../measurements/otii/sweep_mqtt_2300_test3.csv\"\n",
    "\n",
    "mqtt_data = []\n",
    "mqtt_data.append(pd.read_csv(sweep_file1))\n",
    "mqtt_data.append(pd.read_csv(sweep_file2))\n",
    "mqtt_data.append(pd.read_csv(sweep_file3))"
   ]
  },
  {
   "cell_type": "code",
   "execution_count": null,
   "metadata": {},
   "outputs": [],
   "source": [
    "## MQTT long\n",
    "sweep_file1 = \"../measurements/otii/sweep_mqtt_4096_test1.csv\"\n",
    "sweep_file2 = \"../measurements/otii/sweep_mqtt_4096_test2.csv\"\n",
    "sweep_file3 = \"../measurements/otii/sweep_mqtt_4096_test3.csv\"\n",
    "\n",
    "mqtt_long_data = []\n",
    "mqtt_long_data.append(pd.read_csv(sweep_file1))\n",
    "mqtt_long_data.append(pd.read_csv(sweep_file2))\n",
    "mqtt_long_data.append(pd.read_csv(sweep_file3))"
   ]
  },
  {
   "cell_type": "code",
   "execution_count": null,
   "metadata": {},
   "outputs": [],
   "source": [
    "coap_energy = []\n",
    "coap_current = []\n",
    "for i in coap_data:\n",
    "    coap_energy.append(i[\"Arc Main Energy (J)\"])\n",
    "    coap_current.append(i[\"Arc Main Current (A)\"])\n",
    "\n",
    "mqtt_energy = []\n",
    "mqtt_current = []\n",
    "for i in mqtt_data:\n",
    "    mqtt_energy.append(i[\"Arc Main Energy (J)\"])\n",
    "    mqtt_current.append(i[\"Arc Main Current (A)\"])\n",
    "    \n",
    "mqtt_long_energy = []\n",
    "mqtt_long_current = []\n",
    "for i in mqtt_long_data:\n",
    "    mqtt_long_energy.append(i[\"Arc Main Energy (J)\"])\n",
    "    mqtt_long_current.append(i[\"Arc Main Current (A)\"])\n"
   ]
  },
  {
   "cell_type": "code",
   "execution_count": null,
   "metadata": {},
   "outputs": [],
   "source": [
    "plt.figure()\n",
    "for i in mqtt_long_current:\n",
    "    i.iloc[18500000:].plot()"
   ]
  },
  {
   "cell_type": "code",
   "execution_count": null,
   "metadata": {},
   "outputs": [],
   "source": [
    "segments_coap = []\n",
    "\n",
    "idx = 0\n",
    "indexes_coap = []\n",
    "for batch in coap_current:\n",
    "    print(\"Batch: \" + str(idx))\n",
    "    curr_set = []\n",
    "    i = 80000 \n",
    "    index_list = []\n",
    "    endpoint = (batch.index.size-10*ptw_disc)\n",
    "    while(i < endpoint):\n",
    "        curr_meas = batch.iloc[i]\n",
    "        if(curr_meas > 0.04):    \n",
    "            curr_set.append(batch.iloc[(i-ptw_disc):(i+3*ptw_disc)])\n",
    "            i+=3*ptw_disc\n",
    "            index_list.append(i)\n",
    "        else:\n",
    "            i += 1\n",
    "    indexes_coap.append(index_list)\n",
    "    segments_coap.append(curr_set)\n",
    "    idx += 1"
   ]
  },
  {
   "cell_type": "code",
   "execution_count": null,
   "metadata": {},
   "outputs": [],
   "source": [
    "plt.figure()\n",
    "idx_seg = 0\n",
    "\n",
    "coap_sums = np.zeros((len(segments_coap[0]), len(segments_coap)))\n",
    "bytes_coap = range(0,5*len(segments_coap[0]), 5)\n",
    "\n",
    "\n",
    "for i in segments_coap:\n",
    "    sum_acc = []\n",
    "    idx_sample = 0\n",
    "    for j in i:\n",
    "        curr_sum = j.sum()*to_uWh \n",
    "        sum_acc.append(curr_sum)\n",
    "        coap_sums[idx_sample][idx_seg] = curr_sum\n",
    "        idx_sample += 1\n",
    "    \n",
    "    print(np.size(sum_acc))\n",
    "    plt.plot(bytes_coap,sum_acc, label = str(idx_seg))\n",
    "    \n",
    "    idx_seg += 1\n",
    "\n",
    "plt.ylabel(\"Power consumption [uWh]\")\n",
    "plt.xlabel(\"Payload size [Bytes]\")\n",
    "plt.legend()"
   ]
  },
  {
   "cell_type": "code",
   "execution_count": null,
   "metadata": {},
   "outputs": [],
   "source": [
    "coap_stds = []\n",
    "coap_avg = []\n",
    "\n",
    "for i in coap_sums:\n",
    "    coap_stds.append(np.std(i))\n",
    "    coap_avg.append(np.mean(i))\n",
    "    \n",
    "np.mean(coap_stds)"
   ]
  },
  {
   "cell_type": "code",
   "execution_count": null,
   "metadata": {},
   "outputs": [],
   "source": [
    "segments_mqtt = []\n",
    "#before first tranmission - visually determined\n",
    "\n",
    "#data end\n",
    "mqtt_end = int(1.86*pow(10,7))\n",
    "\n",
    "idx = 0\n",
    "\n",
    "for batch in mqtt_current:\n",
    "    print(\"Batch: \" + str(idx))\n",
    "    i = 200000\n",
    "    curr_set = []\n",
    "    \n",
    "    while(i < mqtt_end):\n",
    "        curr_meas = batch.iloc[i]\n",
    "\n",
    "        if(curr_meas > 0.04):    \n",
    "            curr_set.append(batch.iloc[(i-ptw_disc):(i+3*ptw_disc)])\n",
    "            i += 4*ptw_disc\n",
    "        else:\n",
    "            i += 1\n",
    "    segments_mqtt.append(curr_set)\n",
    "    idx += 1"
   ]
  },
  {
   "cell_type": "code",
   "execution_count": null,
   "metadata": {},
   "outputs": [],
   "source": [
    "plt.figure()\n",
    "idx_seg = 0\n",
    "\n",
    "mqtt_sums = np.zeros((len(segments_mqtt[0]), len(segments_mqtt)))\n",
    "bytes_mqtt = range(0,5*len(segments_mqtt[0]), 5)\n",
    "\n",
    "for i in segments_mqtt:\n",
    "    sum_acc = []\n",
    "    idx_sample = 0\n",
    "    for j in i:\n",
    "        curr_sum = j.sum()*to_uWh \n",
    "        sum_acc.append(curr_sum)\n",
    "        mqtt_sums[idx_sample][idx_seg] = curr_sum\n",
    "        idx_sample += 1\n",
    "    \n",
    "    print(np.size(sum_acc))\n",
    "    plt.plot(bytes_mqtt,sum_acc, label = str(idx_seg))\n",
    "    idx_seg += 1\n",
    "\n",
    "plt.ylabel(\"Power consumption [uWh]\")\n",
    "plt.xlabel(\"Payload size [Bytes]\")\n",
    "plt.legend()"
   ]
  },
  {
   "cell_type": "code",
   "execution_count": null,
   "metadata": {},
   "outputs": [],
   "source": [
    "mqtt_stds = []\n",
    "mqtt_avg = []\n",
    "\n",
    "for i in mqtt_sums:\n",
    "    mqtt_stds.append(np.std(i))\n",
    "    mqtt_avg.append(np.mean(i))\n",
    "    \n",
    "np.mean(mqtt_stds)"
   ]
  },
  {
   "cell_type": "code",
   "execution_count": null,
   "metadata": {},
   "outputs": [],
   "source": [
    "segments_mqtt_long = []\n",
    "\n",
    "i = 200000\n",
    "\n",
    "#observed\n",
    "mqtt_long_end = int(1.656*pow(10,7))\n",
    "\n",
    "idx = 0\n",
    "\n",
    "for batch in mqtt_long_current:\n",
    "    print(\"Batch: \" + str(idx))\n",
    "    i = 100000\n",
    "    curr_set = []\n",
    "    \n",
    "    while(i < mqtt_long_end):\n",
    "        curr_meas = batch.iloc[i]\n",
    "\n",
    "        if(curr_meas > 0.04):    \n",
    "            curr_set.append(batch.iloc[(i-ptw_disc):(i+3*ptw_disc)])\n",
    "            i += 4*ptw_disc\n",
    "        else:\n",
    "            i += 1\n",
    "    segments_mqtt_long.append(curr_set)\n",
    "    idx += 1"
   ]
  },
  {
   "cell_type": "code",
   "execution_count": null,
   "metadata": {},
   "outputs": [],
   "source": [
    "segments_mqtt_long[2][400].plot()"
   ]
  },
  {
   "cell_type": "code",
   "execution_count": null,
   "metadata": {},
   "outputs": [],
   "source": [
    "plt.figure()\n",
    "idx_seg = 0\n",
    "\n",
    "mqtt_long_sums = np.zeros((len(segments_mqtt_long[0]), len(segments_mqtt_long)))\n",
    "bytes_mqtt_long = range(0,10*len(segments_mqtt_long[0]), 10)\n",
    "\n",
    "\n",
    "for i in segments_mqtt_long:\n",
    "    sum_acc = []\n",
    "    idx_sample = 0\n",
    "    for j in i:\n",
    "        curr_sum = j.sum()*to_uWh \n",
    "        sum_acc.append(curr_sum)\n",
    "        mqtt_long_sums[idx_sample][idx_seg] = curr_sum\n",
    "        idx_sample += 1\n",
    "    \n",
    "    print(np.size(sum_acc))\n",
    "    plt.plot(bytes_mqtt_long, sum_acc, label = str(idx_seg))\n",
    "    #plt.plot(sum_acc, label = str(idx_seg))\n",
    "    idx_seg += 1\n",
    "plt.ylabel(\"Power consumption [uWh]\")\n",
    "plt.xlabel(\"Payload size [Bytes]\")\n",
    "plt.legend()"
   ]
  },
  {
   "cell_type": "code",
   "execution_count": null,
   "metadata": {},
   "outputs": [],
   "source": [
    "mqtt_long_stds = []\n",
    "mqtt_long_avg = []\n",
    "\n",
    "for i in mqtt_long_sums:\n",
    "    mqtt_long_stds.append(np.std(i))\n",
    "    mqtt_long_avg.append(np.mean(i))"
   ]
  },
  {
   "cell_type": "code",
   "execution_count": null,
   "metadata": {},
   "outputs": [],
   "source": [
    "coap_diff = np.diff(coap_avg)\n",
    "mqtt_diff = np.diff(mqtt_avg)\n",
    "mqtt_long_diff = np.diff(mqtt_long_avg)\n",
    "\n",
    "coap_max_diff = np.max(coap_diff)\n",
    "coap_max_loc = np.where(coap_diff == coap_max_diff)\n",
    "\n",
    "mqtt_max_diff = np.max(mqtt_diff)\n",
    "mqtt_max_loc = np.where(mqtt_diff == mqtt_max_diff)\n",
    "\n",
    "mqtt_long_max_diff = np.max(mqtt_long_diff)\n",
    "mqtt_long_max_loc = np.where(mqtt_long_diff == mqtt_long_max_diff)\n",
    "\n",
    "print(\"CoAP avg diff: %5.6f\" %(np.mean(coap_diff)))\n",
    "print(\"CoAP max diff: %5.4f at %d bytes\" %(coap_max_diff, coap_max_loc[0]*5))\n",
    "print(\"MQTT avg diff: %5.6f\" %(np.mean(mqtt_diff)))\n",
    "print(\"MQTT max diff: %5.4f at %d bytes\" %(mqtt_max_diff, mqtt_max_loc[0]*5))\n",
    "print(\"MQTT long avg diff: %5.6f\" %(np.mean(mqtt_long_diff)))\n",
    "print(\"MQTT long max diff: %5.4f at %d bytes\" %(mqtt_long_max_diff, mqtt_long_max_loc[0]*5))\n",
    "\n",
    "## Boxplot showing the diff between the different segmetnt's power consumption\n",
    "plt.figure()\n",
    "plt.boxplot(coap_diff, positions = [1])\n",
    "plt.boxplot(mqtt_diff, positions = [2])\n",
    "plt.boxplot(mqtt_long_diff, positions = [3])\n",
    "plt.xticks([1,2,3], [\"CoAP 1430\", \"MQTT 2300\",\"MQTT 4096\"])"
   ]
  },
  {
   "cell_type": "code",
   "execution_count": null,
   "metadata": {},
   "outputs": [],
   "source": [
    "coap_smooth = sig.savgol_filter(coap_avg,41,11)\n",
    "mqtt_smooth = sig.savgol_filter(mqtt_avg,41,11)\n",
    "mqtt_long_smooth = sig.savgol_filter(mqtt_long_avg,41,11)"
   ]
  },
  {
   "cell_type": "code",
   "execution_count": null,
   "metadata": {},
   "outputs": [],
   "source": [
    "plt.figure()\n",
    "\n",
    "\n",
    "plt.ylabel(\"Power consumption [uWh]\")\n",
    "plt.xlabel(\"Payload size [Bytes]\")\n",
    "\n",
    "plt.title(\"Current consumption with respect to payload size\")\n",
    "#plt.plot(bytes_coap, coap_avg   ,       label = \"CoAP average\")\n",
    "plt.plot(bytes_coap, coap_smooth, \"--\" ,label = \"CoAP smoothed\")\n",
    "#plt.plot(bytes_mqtt, mqtt_avg   ,       label = \"MQTT 2300 average\")\n",
    "plt.plot(bytes_mqtt, mqtt_smooth, \"--\" ,label = \"MQTT 2300 smoothed\")\n",
    "#plt.plot(bytes_mqtt_long, mqtt_long_avg, label = \"MQTT 4096 average\")\n",
    "plt.plot(bytes_mqtt_long, mqtt_long_smooth, label = \"MQTT 4096 smoothed\")\n",
    "\n",
    "plt.legend()"
   ]
  },
  {
   "cell_type": "code",
   "execution_count": null,
   "metadata": {},
   "outputs": [],
   "source": [
    "coap_avg[0]"
   ]
  },
  {
   "cell_type": "code",
   "execution_count": null,
   "metadata": {},
   "outputs": [],
   "source": [
    "segments_coap[0][3].plot()"
   ]
  },
  {
   "cell_type": "code",
   "execution_count": null,
   "metadata": {},
   "outputs": [],
   "source": []
  },
  {
   "cell_type": "code",
   "execution_count": null,
   "metadata": {},
   "outputs": [],
   "source": []
  }
 ],
 "metadata": {
  "kernelspec": {
   "display_name": "Python 3",
   "language": "python",
   "name": "python3"
  },
  "language_info": {
   "codemirror_mode": {
    "name": "ipython",
    "version": 3
   },
   "file_extension": ".py",
   "mimetype": "text/x-python",
   "name": "python",
   "nbconvert_exporter": "python",
   "pygments_lexer": "ipython3",
   "version": "3.7.6"
  }
 },
 "nbformat": 4,
 "nbformat_minor": 4
}
